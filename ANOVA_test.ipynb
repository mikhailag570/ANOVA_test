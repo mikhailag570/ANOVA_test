{
 "cells": [
  {
   "cell_type": "code",
   "execution_count": null,
   "id": "6cdf76f3",
   "metadata": {},
   "outputs": [],
   "source": [
    "'''\n",
    "ANOVA на сгенерированных данных\n",
    "'''"
   ]
  },
  {
   "cell_type": "code",
   "execution_count": 1,
   "id": "e7f0095f",
   "metadata": {},
   "outputs": [],
   "source": [
    "import numpy as np\n",
    "import pandas as pd\n",
    "import matplotlib.pyplot as plt\n",
    "import scipy.stats as stats"
   ]
  },
  {
   "cell_type": "code",
   "execution_count": 2,
   "id": "6d2bd651",
   "metadata": {},
   "outputs": [
    {
     "data": {
      "text/plain": [
       "F_onewayResult(statistic=1.7744689357329695, pvalue=0.13173183201930463)"
      ]
     },
     "execution_count": 2,
     "metadata": {},
     "output_type": "execute_result"
    }
   ],
   "source": [
    "np.random.seed(12)\n",
    "\n",
    "races =   [\"asian\",\"black\",\"hispanic\",\"other\",\"white\"]\n",
    "\n",
    "voter_race = np.random.choice(a= races,\n",
    "                              p = [0.05, 0.15 ,0.25, 0.05, 0.5],\n",
    "                              size=1000)\n",
    "\n",
    "voter_age = stats.poisson.rvs(loc=18,\n",
    "                              mu=30,\n",
    "                              size=1000)\n",
    "\n",
    "voter_frame = pd.DataFrame({\"race\":voter_race,\"age\":voter_age})\n",
    "groups = voter_frame.groupby(\"race\").groups\n",
    "\n",
    "asian = voter_age[groups[\"asian\"]]\n",
    "black = voter_age[groups[\"black\"]]\n",
    "hispanic = voter_age[groups[\"hispanic\"]]\n",
    "other = voter_age[groups[\"other\"]]\n",
    "white = voter_age[groups[\"white\"]]\n",
    "\n",
    "# Проводим тест\n",
    "\n",
    "stats.f_oneway(asian, black, hispanic, other, white)"
   ]
  },
  {
   "cell_type": "code",
   "execution_count": null,
   "id": "295543f1",
   "metadata": {},
   "outputs": [],
   "source": [
    "'''\n",
    "Тест дает F-статистику 1,774 и p-value 0,1317, что указывает на отсутствие существенной разницы \n",
    "между средними значениями каждой группы.\n",
    "'''"
   ]
  },
  {
   "cell_type": "code",
   "execution_count": 3,
   "id": "3278abda",
   "metadata": {},
   "outputs": [
    {
     "name": "stdout",
     "output_type": "stream",
     "text": [
      "             sum_sq     df         F    PR(>F)\n",
      "race        199.369    4.0  1.774469  0.131732\n",
      "Residual  27948.102  995.0       NaN       NaN\n"
     ]
    }
   ],
   "source": [
    "# Второй способ\n",
    "\n",
    "import statsmodels.api as sm\n",
    "from statsmodels.formula.api import ols\n",
    "\n",
    "# Формула модели\n",
    "model = ols('age ~ race',                 \n",
    "            data = voter_frame).fit()\n",
    "                \n",
    "anova_result = sm.stats.anova_lm(model, typ=2)\n",
    "print (anova_result)"
   ]
  },
  {
   "cell_type": "code",
   "execution_count": null,
   "id": "57003fa8",
   "metadata": {},
   "outputs": [],
   "source": [
    "'''\n",
    "Создадим новые данные о возрастем различабщимися средними значениями группы.\n",
    "'''"
   ]
  },
  {
   "cell_type": "code",
   "execution_count": 4,
   "id": "1163a3e0",
   "metadata": {},
   "outputs": [
    {
     "data": {
      "text/plain": [
       "F_onewayResult(statistic=10.164699828386366, pvalue=4.5613242113994585e-08)"
      ]
     },
     "execution_count": 4,
     "metadata": {},
     "output_type": "execute_result"
    }
   ],
   "source": [
    "np.random.seed(12)\n",
    "\n",
    "voter_race = np.random.choice(a= races,\n",
    "                              p = [0.05, 0.15 ,0.25, 0.05, 0.5],\n",
    "                              size=1000)\n",
    "\n",
    "# Длявозрастабелых\n",
    "white_ages = stats.poisson.rvs(loc=18, \n",
    "                              mu=32,\n",
    "                              size=1000)\n",
    "\n",
    "voter_age = stats.poisson.rvs(loc=18,\n",
    "                              mu=30,\n",
    "                              size=1000)\n",
    "\n",
    "voter_age = np.where(voter_race==\"white\", white_ages, voter_age)\n",
    "\n",
    "# Групповые данные\n",
    "voter_frame = pd.DataFrame({\"race\":voter_race,\"age\":voter_age})\n",
    "groups = voter_frame.groupby(\"race\").groups   \n",
    "\n",
    "# Данные для отдельных групп\n",
    "asian = voter_age[groups[\"asian\"]]\n",
    "black = voter_age[groups[\"black\"]]\n",
    "hispanic = voter_age[groups[\"hispanic\"]]\n",
    "other = voter_age[groups[\"other\"]]\n",
    "white = voter_age[groups[\"white\"]]\n",
    "\n",
    "# Применим ANOVA\n",
    "stats.f_oneway(asian, black, hispanic, other, white)"
   ]
  },
  {
   "cell_type": "code",
   "execution_count": null,
   "id": "288cc65f",
   "metadata": {},
   "outputs": [],
   "source": [
    "'''\n",
    "Или альтернатива\n",
    "'''"
   ]
  },
  {
   "cell_type": "code",
   "execution_count": 5,
   "id": "ce730d57",
   "metadata": {},
   "outputs": [
    {
     "name": "stdout",
     "output_type": "stream",
     "text": [
      "                sum_sq     df        F        PR(>F)\n",
      "race       1284.123213    4.0  10.1647  4.561324e-08\n",
      "Residual  31424.995787  995.0      NaN           NaN\n"
     ]
    }
   ],
   "source": [
    "# Или другим методом\n",
    "model = ols('age ~ race',                 # Model formula\n",
    "            data = voter_frame).fit()\n",
    "                \n",
    "anova_result = sm.stats.anova_lm(model, typ=2)\n",
    "print (anova_result)"
   ]
  },
  {
   "cell_type": "code",
   "execution_count": null,
   "id": "e1473f75",
   "metadata": {},
   "outputs": [],
   "source": [
    "'''\n",
    "в этом случае группы не имеют одинаковых выборочных средних, поскольку p-value является значимым при 99%\n",
    "Мы можем выполнить t-тест между всеми парами через stats.ttest_ind().\n",
    "'''"
   ]
  },
  {
   "cell_type": "code",
   "execution_count": 6,
   "id": "3376429a",
   "metadata": {},
   "outputs": [
    {
     "name": "stdout",
     "output_type": "stream",
     "text": [
      "asian black\n",
      "Ttest_indResult(statistic=0.8386446909747979, pvalue=0.4027281369339345)\n",
      "asian hispanic\n",
      "Ttest_indResult(statistic=-0.42594691924932293, pvalue=0.6704669004240726)\n",
      "asian other\n",
      "Ttest_indResult(statistic=0.9795284739636, pvalue=0.3298877500095151)\n",
      "asian white\n",
      "Ttest_indResult(statistic=-2.318108811252288, pvalue=0.020804701566400217)\n",
      "black hispanic\n",
      "Ttest_indResult(statistic=-1.9527839210712925, pvalue=0.05156197171952594)\n",
      "black other\n",
      "Ttest_indResult(statistic=0.28025754367057176, pvalue=0.7795770111117659)\n",
      "black white\n",
      "Ttest_indResult(statistic=-5.379303881281834, pvalue=1.0394212166624012e-07)\n",
      "hispanic other\n",
      "Ttest_indResult(statistic=1.5853626170340225, pvalue=0.11396630528484335)\n",
      "hispanic white\n",
      "Ttest_indResult(statistic=-3.5160312714115376, pvalue=0.0004641298649066684)\n",
      "other white\n",
      "Ttest_indResult(statistic=-3.763809322077872, pvalue=0.00018490576317593065)\n"
     ]
    }
   ],
   "source": [
    "race_pairs = []\n",
    "\n",
    "for race1 in range(4):\n",
    "    for race2  in range(race1+1,5):\n",
    "        race_pairs.append((races[race1], races[race2]))\n",
    "\n",
    "for race1, race2 in race_pairs: \n",
    "    print(race1, race2)\n",
    "    print(stats.ttest_ind(voter_age[groups[race1]], \n",
    "                          voter_age[groups[race2]]))"
   ]
  },
  {
   "cell_type": "code",
   "execution_count": null,
   "id": "fd0d9a5a",
   "metadata": {},
   "outputs": [],
   "source": [
    "'''\n",
    "Однако использование нескорректированных парных t-тестов может привести к переоценке значимости, \n",
    "поскольку чем больше сравнений вы сделаете, тем больше вероятность того, что вы встретите маловероятный результат.\n",
    "Выполним тест Тьюки, используя функцию Pairwise_tukeyhsd() изв библиотеки statsmodels.stats.multicomp.\n",
    "'''"
   ]
  },
  {
   "cell_type": "code",
   "execution_count": 7,
   "id": "538117d8",
   "metadata": {},
   "outputs": [
    {
     "data": {
      "text/html": [
       "<table class=\"simpletable\">\n",
       "<caption>Multiple Comparison of Means - Tukey HSD, FWER=0.05</caption>\n",
       "<tr>\n",
       "   <th>group1</th>   <th>group2</th>  <th>meandiff</th>  <th>p-adj</th>  <th>lower</th>   <th>upper</th> <th>reject</th>\n",
       "</tr>\n",
       "<tr>\n",
       "    <td>asian</td>    <td>black</td>   <td>-0.8032</td> <td>0.9208</td> <td>-3.4423</td>  <td>1.836</td>  <td>False</td>\n",
       "</tr>\n",
       "<tr>\n",
       "    <td>asian</td>  <td>hispanic</td>  <td>0.4143</td>  <td>0.9915</td> <td>-2.1011</td> <td>2.9297</td>  <td>False</td>\n",
       "</tr>\n",
       "<tr>\n",
       "    <td>asian</td>    <td>other</td>   <td>-1.0645</td> <td>0.8906</td> <td>-4.2391</td>  <td>2.11</td>   <td>False</td>\n",
       "</tr>\n",
       "<tr>\n",
       "    <td>asian</td>    <td>white</td>   <td>1.9547</td>  <td>0.1751</td> <td>-0.4575</td> <td>4.3668</td>  <td>False</td>\n",
       "</tr>\n",
       "<tr>\n",
       "    <td>black</td>  <td>hispanic</td>  <td>1.2175</td>  <td>0.2318</td> <td>-0.386</td>   <td>2.821</td>  <td>False</td>\n",
       "</tr>\n",
       "<tr>\n",
       "    <td>black</td>    <td>other</td>   <td>-0.2614</td> <td>0.9986</td> <td>-2.7757</td>  <td>2.253</td>  <td>False</td>\n",
       "</tr>\n",
       "<tr>\n",
       "    <td>black</td>    <td>white</td>   <td>2.7579</td>    <td>0.0</td>  <td>1.3217</td>   <td>4.194</td>  <td>True</td> \n",
       "</tr>\n",
       "<tr>\n",
       "  <td>hispanic</td>   <td>other</td>   <td>-1.4789</td> <td>0.4374</td> <td>-3.863</td>  <td>0.9053</td>  <td>False</td>\n",
       "</tr>\n",
       "<tr>\n",
       "  <td>hispanic</td>   <td>white</td>   <td>1.5404</td>   <td>0.004</td> <td>0.3468</td>   <td>2.734</td>  <td>True</td> \n",
       "</tr>\n",
       "<tr>\n",
       "    <td>other</td>    <td>white</td>   <td>3.0192</td>  <td>0.0028</td> <td>0.7443</td>  <td>5.2941</td>  <td>True</td> \n",
       "</tr>\n",
       "</table>"
      ],
      "text/plain": [
       "<class 'statsmodels.iolib.table.SimpleTable'>"
      ]
     },
     "execution_count": 7,
     "metadata": {},
     "output_type": "execute_result"
    },
    {
     "data": {
      "image/png": "[encoded data removed]",
      "text/plain": [
       "<Figure size 1000x600 with 1 Axes>"
      ]
     },
     "metadata": {},
     "output_type": "display_data"
    }
   ],
   "source": [
    "from statsmodels.stats.multicomp import pairwise_tukeyhsd\n",
    "\n",
    "tukey = pairwise_tukeyhsd(endog=voter_age,    \n",
    "                          groups=voter_race,   \n",
    "                          alpha=0.05)          \n",
    "\n",
    "tukey.plot_simultaneous()   \n",
    "plt.vlines(x=49.57,ymin=-0.5,ymax=4.5, color=\"red\")\n",
    "\n",
    "tukey.summary() "
   ]
  },
  {
   "cell_type": "code",
   "execution_count": null,
   "id": "a4ac7774",
   "metadata": {},
   "outputs": [],
   "source": [
    "'''\n",
    "Результаты теста Тьюки показывают среднюю разницу, доверительный интервал, а также следует ли вам отклонить нулевую гипотезу\n",
    "для каждой пары групп на данном уровне значимости. В этом случае тест предлагает отвергнуть нулевую гипотезу для трех пар, \n",
    "каждая из которых включает категорию «белые». Это говорит о том, что белая группа, вероятно, отличается от других. \n",
    "График доверительного интервала 95% визуально подтверждает результаты: доверительный интервал только одной другой \n",
    "группы перекрывает доверительный интервал белой группы.\n",
    "\n",
    "Тест ANOVA позволяет нам проверить, меняется ли числовая переменная ответа в зависимости от уровней категориальной переменной. \n",
    "Библиотека Scipy позволяет легко выполнять ANOVA, не углубляясь в детали процедуры.\n",
    "'''"
   ]
  }
 ],
 "metadata": {
  "kernelspec": {
   "display_name": "Python 3 (ipykernel)",
   "language": "python",
   "name": "python3"
  },
  "language_info": {
   "codemirror_mode": {
    "name": "ipython",
    "version": 3
   },
   "file_extension": ".py",
   "mimetype": "text/x-python",
   "name": "python",
   "nbconvert_exporter": "python",
   "pygments_lexer": "ipython3",
   "version": "3.9.13"
  }
 },
 "nbformat": 4,
 "nbformat_minor": 5
}
